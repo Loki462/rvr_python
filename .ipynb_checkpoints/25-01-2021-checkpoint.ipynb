{
 "cells": [
  {
   "cell_type": "code",
   "execution_count": 11,
   "metadata": {},
   "outputs": [
    {
     "name": "stdout",
     "output_type": "stream",
     "text": [
      "Hello word\n"
     ]
    }
   ],
   "source": [
    "a = \"Hello word\"\n",
    "print(a)"
   ]
  },
  {
   "cell_type": "code",
   "execution_count": 7,
   "metadata": {},
   "outputs": [
    {
     "data": {
      "text/plain": [
       "range(1, 10, 2)"
      ]
     },
     "execution_count": 7,
     "metadata": {},
     "output_type": "execute_result"
    }
   ],
   "source": [
    "range(1,10,2)"
   ]
  },
  {
   "cell_type": "code",
   "execution_count": 12,
   "metadata": {},
   "outputs": [],
   "source": [
    "# Synatx:\n",
    "# for var in range(start,end,diff):\n",
    "    #statements\n",
    "    -->in is a membership operator"
   ]
  },
  {
   "cell_type": "code",
   "execution_count": 27,
   "metadata": {},
   "outputs": [
    {
     "name": "stdout",
     "output_type": "stream",
     "text": [
      "1 2 3 4 5 6 7 8 9 10 11 12 13 14 15 16 17 18 19 20 21 22 23 24 25 26 27 28 29 30 31 32 33 34 35 36 37 38 39 40 41 42 43 44 45 46 47 48 49 50 51 52 53 54 55 56 57 58 59 60 61 62 63 64 65 66 67 68 69 70 71 72 73 74 75 76 77 78 79 80 81 82 83 84 85 86 87 88 89 90 91 92 93 94 95 96 97 98 99 100 "
     ]
    }
   ],
   "source": [
    "#a=input(\"Enter a name \")\n",
    "for i in range(1,100+1):\n",
    "    print(i,end = \" \")"
   ]
  },
  {
   "cell_type": "code",
   "execution_count": 29,
   "metadata": {},
   "outputs": [
    {
     "name": "stdout",
     "output_type": "stream",
     "text": [
      "0 2 4 6 8 10 12 14 16 18 20 22 24 26 28 30 32 34 36 38 40 42 44 46 48 50 52 54 56 58 60 62 64 66 68 70 72 74 76 78 80 82 84 86 88 90 92 94 96 98 100 "
     ]
    }
   ],
   "source": [
    "# To print even numbers for given range:\n",
    "#a=input(\"Enter a name \")\n",
    "for i in range(0,100+1):\n",
    "    if (i%2==0):\n",
    "        print(i,end = \" \")"
   ]
  },
  {
   "cell_type": "code",
   "execution_count": 31,
   "metadata": {},
   "outputs": [
    {
     "name": "stdout",
     "output_type": "stream",
     "text": [
      "1 3 5 7 9 11 13 15 17 19 21 23 25 27 29 31 33 35 37 39 41 43 45 47 49 51 53 55 57 59 61 63 65 67 69 71 73 75 77 79 81 83 85 87 89 91 93 95 97 99 "
     ]
    }
   ],
   "source": [
    "# To print odd numbers for given range:\n",
    "# a=input(\"Enter a name \")\n",
    "for i in range(0,100+1):\n",
    "    if (i%2!=0):\n",
    "        print(i,end = \" \")"
   ]
  },
  {
   "cell_type": "code",
   "execution_count": 52,
   "metadata": {},
   "outputs": [
    {
     "name": "stdout",
     "output_type": "stream",
     "text": [
      "Enter a number5\n",
      " given number is odd  5\n"
     ]
    }
   ],
   "source": [
    "# To print given no is even or odd:\n",
    "\n",
    "a = int(input('Enter a number'))\n",
    "if (a%2==0):\n",
    "    print(\"given number is even \",a)\n",
    "else:\n",
    "    print(\" given number is odd \",a)"
   ]
  },
  {
   "cell_type": "code",
   "execution_count": 58,
   "metadata": {
    "slideshow": {
     "slide_type": "-"
    }
   },
   "outputs": [
    {
     "name": "stdout",
     "output_type": "stream",
     "text": [
      "Enter table number:2\n",
      "Enter table length:5\n",
      "2 * 1 = 2\n",
      "2 * 2 = 4\n",
      "2 * 3 = 6\n",
      "2 * 4 = 8\n",
      "2 * 5 = 10\n"
     ]
    }
   ],
   "source": [
    "# To print a table:\n",
    "\n",
    "t = int(input('Enter table number:'))\n",
    "t_len = int(input('Enter table length:'))\n",
    "for i in range(1,t_len+1):\n",
    "            # 17 * 1 = 17\n",
    "        print('{} * {} = {}'.format(t,i,t*i ))"
   ]
  },
  {
   "cell_type": "code",
   "execution_count": 62,
   "metadata": {},
   "outputs": [
    {
     "name": "stdout",
     "output_type": "stream",
     "text": [
      "Enter the number:5\n",
      "1 5 "
     ]
    }
   ],
   "source": [
    "# To find factors of a given number:\n",
    "n = int(input('Enter the number:'))\n",
    "for i in range(1,n+1):\n",
    "   if n%i == 0:\n",
    "        print(i,end = \" \")"
   ]
  },
  {
   "cell_type": "code",
   "execution_count": 65,
   "metadata": {},
   "outputs": [
    {
     "name": "stdout",
     "output_type": "stream",
     "text": [
      "Enter the number:5\n",
      "1 5 Factors count is : 2\n"
     ]
    }
   ],
   "source": [
    "# To find number of factors of a given number:\n",
    "n = int(input('Enter the number:'))\n",
    "cnt = 0\n",
    "for i in range(1,n+1):\n",
    "   if n%i == 0:\n",
    "        cnt+=1\n",
    "        print(i,end = \" \")\n",
    "print('Factors count is :',cnt)"
   ]
  },
  {
   "cell_type": "code",
   "execution_count": 75,
   "metadata": {},
   "outputs": [
    {
     "name": "stdout",
     "output_type": "stream",
     "text": [
      "Enter the number :6\n",
      "1 2 3 6 Factors count is : 4\n",
      "number is not a prime\n"
     ]
    }
   ],
   "source": [
    "# To find prime numbers of  a given number:\n",
    "n = int(input('Enter the number :'))\n",
    "cnt = 0\n",
    "for i in range(1,n+1):\n",
    "   if n%i == 0:\n",
    "        cnt+=1\n",
    "        print(i,end = \" \")\n",
    "print('Factors count is :',cnt)\n",
    "if cnt == 2:\n",
    "    print('number is a prime')\n",
    "else :\n",
    "        print('number is not a prime')"
   ]
  },
  {
   "cell_type": "code",
   "execution_count": 76,
   "metadata": {},
   "outputs": [],
   "source": [
    "# Syntax:\n",
    "# while conddition:\n",
    "    #statements"
   ]
  },
  {
   "cell_type": "code",
   "execution_count": 1,
   "metadata": {},
   "outputs": [
    {
     "name": "stdout",
     "output_type": "stream",
     "text": [
      "1 2 3 4 5 6 7 8 9 10 "
     ]
    }
   ],
   "source": [
    "# To print 1 to 10 numbers using while loop:\n",
    "i = 1  # Start value\n",
    "while i<11:  #final value\n",
    "    print(i,end = \" \")\n",
    "    i+=1    #step value"
   ]
  },
  {
   "cell_type": "code",
   "execution_count": 2,
   "metadata": {},
   "outputs": [
    {
     "name": "stdout",
     "output_type": "stream",
     "text": [
      "11 10 9 8 7 6 5 4 3 2 1 "
     ]
    }
   ],
   "source": [
    "# To print 10 to 1 numbers using while loop:\n",
    "i = 11  # Start value\n",
    "while i>0:  #final value\n",
    "    print(i,end = \" \")\n",
    "    i-=1    #step value"
   ]
  },
  {
   "cell_type": "code",
   "execution_count": null,
   "metadata": {},
   "outputs": [],
   "source": []
  }
 ],
 "metadata": {
  "kernelspec": {
   "display_name": "Python 3",
   "language": "python",
   "name": "python3"
  },
  "language_info": {
   "codemirror_mode": {
    "name": "ipython",
    "version": 3
   },
   "file_extension": ".py",
   "mimetype": "text/x-python",
   "name": "python",
   "nbconvert_exporter": "python",
   "pygments_lexer": "ipython3",
   "version": "3.7.3"
  }
 },
 "nbformat": 4,
 "nbformat_minor": 2
}
